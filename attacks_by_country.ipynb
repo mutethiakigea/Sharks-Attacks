{
 "cells": [
  {
   "cell_type": "code",
   "execution_count": 1,
   "id": "04eaf77a",
   "metadata": {},
   "outputs": [],
   "source": [
    "#importing library\n",
    "import pandas as pd"
   ]
  },
  {
   "cell_type": "code",
   "execution_count": 2,
   "id": "b43946e1",
   "metadata": {},
   "outputs": [],
   "source": [
    "# Loading the dataset\n",
    "shark_attacks = pd.read_csv('SharkAttack.csv')"
   ]
  },
  {
   "cell_type": "code",
   "execution_count": 3,
   "id": "909203a1",
   "metadata": {},
   "outputs": [],
   "source": [
    "# Filling missing Country values where Area is \"Florida\" with \"USA\"\n",
    "shark_attacks.loc[shark_attacks['Area'] == 'Florida', 'Country'] = 'USA'"
   ]
  },
  {
   "cell_type": "code",
   "execution_count": 4,
   "id": "7bc8347d",
   "metadata": {},
   "outputs": [],
   "source": [
    "# Writing the updated DataFrame to a new CSV file\n",
    "shark_attacks.to_csv('Updated_SharkAttack.csv', index=False)"
   ]
  },
  {
   "cell_type": "code",
   "execution_count": 5,
   "id": "9507f306",
   "metadata": {},
   "outputs": [],
   "source": [
    "# Counting the number of shark attacks by country\n",
    "attacks_by_country = shark_attacks['Country'].value_counts()"
   ]
  },
  {
   "cell_type": "code",
   "execution_count": 6,
   "id": "85f97a44",
   "metadata": {},
   "outputs": [
    {
     "name": "stdout",
     "output_type": "stream",
     "text": [
      "Number of shark attacks by country:\n",
      "USA                 2162\n",
      "AUSTRALIA           1304\n",
      "SOUTH AFRICA         571\n",
      "PAPUA NEW GUINEA     133\n",
      "NEW ZEALAND          126\n",
      "                    ... \n",
      "THE BALKANS            1\n",
      "GULF OF ADEN           1\n",
      "RED SEA?               1\n",
      "MARTINIQUE             1\n",
      "ASIA?                  1\n",
      "Name: Country, Length: 204, dtype: int64\n"
     ]
    }
   ],
   "source": [
    "# Displaying the output\n",
    "print(\"Number of shark attacks by country:\")\n",
    "print(attacks_by_country)"
   ]
  },
  {
   "cell_type": "code",
   "execution_count": null,
   "id": "c1dd3399",
   "metadata": {},
   "outputs": [],
   "source": []
  }
 ],
 "metadata": {
  "kernelspec": {
   "display_name": "Python 3",
   "language": "python",
   "name": "python3"
  },
  "language_info": {
   "codemirror_mode": {
    "name": "ipython",
    "version": 3
   },
   "file_extension": ".py",
   "mimetype": "text/x-python",
   "name": "python",
   "nbconvert_exporter": "python",
   "pygments_lexer": "ipython3",
   "version": "3.8.8"
  }
 },
 "nbformat": 4,
 "nbformat_minor": 5
}
